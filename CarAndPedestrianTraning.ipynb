{
 "cells": [
  {
   "cell_type": "code",
   "execution_count": 1,
   "metadata": {},
   "outputs": [],
   "source": [
    "import cv2"
   ]
  },
  {
   "cell_type": "code",
   "execution_count": 2,
   "metadata": {},
   "outputs": [
    {
     "name": "stdout",
     "output_type": "stream",
     "text": [
      "Code Completed\n"
     ]
    }
   ],
   "source": [
    "import cv2\n",
    "\n",
    "\n",
    "# Just add your video file here\n",
    "vid_file = cv2.VideoCapture(0)\n",
    "\n",
    "\n",
    "# Pre-Trained classifier\n",
    "car_tracker = cv2.CascadeClassifier('car_detector.xml')\n",
    "pedestrian_tracker = cv2.CascadeClassifier('haarcascade_fullbody.xml')\n",
    "\n",
    "\n",
    "while True:\n",
    "    # Read Video\n",
    "    (read_successful, frame) = vid_file.read()\n",
    "    if read_successful:\n",
    "        # Convert to greyscale\n",
    "        grayscaled_frame = cv2.cvtColor(frame, cv2.COLOR_BGR2GRAY)\n",
    "    else:\n",
    "        break\n",
    "\n",
    "    # Detect Cars & Pedestrian\n",
    "    cars = car_tracker.detectMultiScale(grayscaled_frame)\n",
    "    pedestrians = pedestrian_tracker.detectMultiScale(grayscaled_frame)\n",
    "\n",
    "    # Draw square around the cars\n",
    "    for (x, y, w, h) in cars:\n",
    "        cv2.rectangle(frame, (x+1, y+1), (x+w, y+h), (255, 0, 0), 2)\n",
    "        cv2.rectangle(frame, (x, y), (x+w, y+h), (0, 0, 255), 2)\n",
    "\n",
    "    # Draw square around the pedestrians\n",
    "    for (x, y, w, h) in pedestrians:\n",
    "        cv2.rectangle(frame, (x, y), (x+w, y+h), (0, 255, 255), 2)\n",
    "\n",
    "    # Display the image\n",
    "    cv2.imshow('Car & Pedestrian Detector', frame)\n",
    "\n",
    "    # Hold it so it won't autoclose\n",
    "    key = cv2.waitKey(1)\n",
    "\n",
    "    # Stop if Q key is pressed\n",
    "    if key == 81 or key == 113:\n",
    "        break\n",
    "\n",
    "# Release the videoCapture object\n",
    "vid_file.release()\n",
    "\n",
    "print('Code Completed')\n"
   ]
  },
  {
   "cell_type": "code",
   "execution_count": null,
   "metadata": {},
   "outputs": [],
   "source": []
  }
 ],
 "metadata": {
  "kernelspec": {
   "display_name": "Python 3",
   "language": "python",
   "name": "python3"
  },
  "language_info": {
   "codemirror_mode": {
    "name": "ipython",
    "version": 3
   },
   "file_extension": ".py",
   "mimetype": "text/x-python",
   "name": "python",
   "nbconvert_exporter": "python",
   "pygments_lexer": "ipython3",
   "version": "3.7.6"
  }
 },
 "nbformat": 4,
 "nbformat_minor": 4
}
